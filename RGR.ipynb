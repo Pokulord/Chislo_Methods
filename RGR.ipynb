{
  "nbformat": 4,
  "nbformat_minor": 0,
  "metadata": {
    "colab": {
      "provenance": [],
      "authorship_tag": "ABX9TyNP/j/n8lZjpTkFB6K6UQpT",
      "include_colab_link": true
    },
    "kernelspec": {
      "name": "python3",
      "display_name": "Python 3"
    },
    "language_info": {
      "name": "python"
    }
  },
  "cells": [
    {
      "cell_type": "markdown",
      "metadata": {
        "id": "view-in-github",
        "colab_type": "text"
      },
      "source": [
        "<a href=\"https://colab.research.google.com/github/Pokulord/Chislo_Methods/blob/master/RGR.ipynb\" target=\"_parent\"><img src=\"https://colab.research.google.com/assets/colab-badge.svg\" alt=\"Open In Colab\"/></a>"
      ]
    },
    {
      "cell_type": "markdown",
      "source": [
        "РГР по Численным методам\n",
        "Выполнил студент группы РИ-321055 Черников Святослав Сергеевич\n",
        "\n",
        "Номер в журнале : 19"
      ],
      "metadata": {
        "id": "EZujEySjOPj3"
      }
    },
    {
      "cell_type": "markdown",
      "source": [
        "## 1. Численное решение нелинейных уравнений. Вариант 4\n",
        "\n",
        "Написать функцию для решения нелинейного уравнения следующими методами:\n",
        "a.\n",
        "Ньютона\n",
        "b.\n",
        "бисекций\n",
        "c.\n",
        "секущих\n",
        "\n",
        "2)\n",
        "Построить график функции f(x) для своего варианта и приблизительно определить по графику корни уравнения.\n",
        "\n",
        "3)\n",
        "Решить уравнение f(x)= 0 с точностью ε = 10^(- 4) каждым из изученных выше методов.\n",
        "\n",
        "4)\n",
        "Сравнить количество итераций, требующееся для каждого метода, сделать выводы.\n",
        "\n",
        "![image.png](data:image/png;base64,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)"
      ],
      "metadata": {
        "id": "j53GH1E_PCSv"
      }
    },
    {
      "cell_type": "code",
      "source": [
        "import numpy as np\n",
        "import matplotlib.pyplot as plt\n",
        "from scipy.linalg import lu\n",
        "\n",
        "class RGR_METHODS:\n",
        "    def __init__(self):\n",
        "        # Начальные приближения для методов\n",
        "        self.x0_newton = 0.5  # начальное приближение для Ньютона\n",
        "        self.x0_secant = 0.5  # первое начальное приближение для секущих\n",
        "        self.x1_secant = 0.6  # второе начальное приближение для секущих\n",
        "        self.a_bisection = 0.1  # начало интервала для бисекции\n",
        "        self.b_bisection = 0.9  # конец интервала для бисекции\n",
        "        self.print_results()\n",
        "        self.draw_graph()\n",
        "\n",
        "    # Определим функцию f(x) и её производную для метода Ньютона\n",
        "    def f(self,x):\n",
        "        return np.sqrt(1 - 0.4 * x**2) - np.arcsin(x)\n",
        "\n",
        "    # Производная функции f(x) для метода Ньютона\n",
        "    def df(self,x):\n",
        "        return (-0.4 * x / np.sqrt(1 - 0.4 * x**2)) - (1 / np.sqrt(1 - x**2))\n",
        "\n",
        "    # Метод Ньютона\n",
        "    def newton_method(self,f, df, x0, epsilon=1e-4, max_iter=1000):\n",
        "        x = x0\n",
        "        for i in range(max_iter):\n",
        "            fx = f(x)\n",
        "            dfx = df(x)\n",
        "            if abs(fx) < epsilon:\n",
        "                return x, i+1\n",
        "            x = x - fx / dfx\n",
        "        return x, max_iter\n",
        "\n",
        "    # Метод бисекций\n",
        "    def bisection_method(self,f, a, b, epsilon=1e-4, max_iter=1000):\n",
        "        if f(a) * f(b) >= 0:\n",
        "            raise ValueError(\"Функция должна иметь разные знаки на концах отрезка\")\n",
        "\n",
        "        for i in range(max_iter):\n",
        "            c = (a + b) / 2\n",
        "            fc = f(c)\n",
        "            if abs(fc) < epsilon or (b - a) / 2 < epsilon:\n",
        "                return c, i+1\n",
        "            if f(a) * fc < 0:\n",
        "                b = c\n",
        "            else:\n",
        "                a = c\n",
        "        return (a + b) / 2, max_iter\n",
        "\n",
        "    # Метод секущих\n",
        "    def secant_method(self,f, x0, x1, epsilon=1e-4, max_iter=1000):\n",
        "        for i in range(max_iter):\n",
        "            fx0 = f(x0)\n",
        "            fx1 = f(x1)\n",
        "            if abs(fx1) < epsilon:\n",
        "                return x1, i+1\n",
        "            x_temp = x1 - fx1 * (x1 - x0) / (fx1 - fx0)\n",
        "            x0, x1 = x1, x_temp\n",
        "        return x1, max_iter\n",
        "\n",
        "    # 4. Построение графика функции f(x) в интервале [0, 1]\n",
        "    def draw_graph(self):\n",
        "        x_vals = np.linspace(0, 1, 400)\n",
        "        y_vals = self.f(x_vals)\n",
        "\n",
        "        plt.plot(x_vals, y_vals, label=\"f(x) = √(1-0.4x^2) - arcsin(x)\")\n",
        "        plt.axhline(0, color='black',linewidth=0.5)\n",
        "        plt.axvline(0, color='black',linewidth=0.5)\n",
        "        plt.grid(True)\n",
        "        plt.legend()\n",
        "        plt.xlabel(\"x\")\n",
        "        plt.ylabel(\"f(x)\")\n",
        "        plt.title(\"График функции f(x) на интервале [0, 1]\")\n",
        "        plt.show()\n",
        "\n",
        "\n",
        "\n",
        "\n",
        "\n",
        "    def print_results(self):\n",
        "    # Решение методом Ньютона\n",
        "        root_newton, iter_newton = self.newton_method(self.f, self.df, self.x0_newton)\n",
        "        print(f\"Метод Ньютона: корень = {round(root_newton,7)}, количество итераций = {iter_newton}\")\n",
        "        print(\"-\" * 40)\n",
        "        # Решение методом бисекций\n",
        "        root_bisection, iter_bisection = self.bisection_method(self.f, self.a_bisection, self.b_bisection)\n",
        "        print(f\"Метод бисекций: корень = {round(root_bisection,7)}, количество итераций = {iter_bisection}\")\n",
        "        print(\"-\" * 40)\n",
        "        # Решение методом секущих\n",
        "        root_secant, iter_secant = self.secant_method(self.f, self.x0_secant, self.x1_secant)\n",
        "        print(f\"Метод секущих: корень = {round(root_secant,7)}, количество итераций = {iter_secant}\")\n",
        "        print(\"-\" * 40)\n",
        "\n",
        "\n",
        "if __name__ == \"__main__\":\n",
        "    obj = RGR_METHODS()\n",
        "\n"
      ],
      "metadata": {
        "colab": {
          "base_uri": "https://localhost:8080/",
          "height": 576
        },
        "id": "FvR9xJEJOXlv",
        "outputId": "c8b04db3-66cb-47f2-da35-53608501f603"
      },
      "execution_count": null,
      "outputs": [
        {
          "output_type": "stream",
          "name": "stdout",
          "text": [
            "Метод Ньютона: корень = 0.7671659, количество итераций = 4\n",
            "----------------------------------------\n",
            "Метод бисекций: корень = 0.7671875, количество итераций = 9\n",
            "----------------------------------------\n",
            "Метод секущих: корень = 0.7671627, количество итераций = 5\n",
            "----------------------------------------\n"
          ]
        },
        {
          "output_type": "display_data",
          "data": {
            "text/plain": [
              "<Figure size 640x480 with 1 Axes>"
            ],
            "image/png": "[encoded data removed]"
          },
          "metadata": {}
        }
      ]
    },
    {
      "cell_type": "markdown",
      "source": [
        "# Вывод\n",
        " В результате проделанных действий можно сделать вывод о том, что наибольшее количество итераций потребовалось для метода бисекций, а наименьшее их количество было достигнуто при вычислении методом  Ньютона\n",
        "\n",
        " При определении корня \"на глаз\" было получено значение 0.77"
      ],
      "metadata": {
        "id": "BdmcdJ6TQmVY"
      }
    },
    {
      "cell_type": "markdown",
      "source": [
        "# 2 Численное решение систем линейных уравнений. Вариант 9\n",
        "\n",
        "![image.png](data:image/png;base64,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)"
      ],
      "metadata": {
        "id": "O2r98YCjSKYB"
      }
    },
    {
      "cell_type": "markdown",
      "source": [
        "1.Реализовать алгоритм решения систем ленейных уравнений методом Гаусса, используя LU разложение матрицы A (стр. 75 , см. файл с методичкой С.В.Лемешевского)"
      ],
      "metadata": {
        "id": "MFDeeCC4TE9K"
      }
    },
    {
      "cell_type": "code",
      "source": [
        "\n",
        "import numpy as np\n",
        "\n",
        "\n",
        "class Task2:\n",
        "    def __init__(self) -> None:\n",
        "        # Коэффы матриц\n",
        "        self.A = np.array(\n",
        "            [[2, 3, -4],\n",
        "            [3, -1, 2],\n",
        "            [4, 3, -3]])\n",
        "        self.b = np.array([1, 12, 9])\n",
        "\n",
        "        x = self.Gauss_method(self.A, self.b)\n",
        "\n",
        "        print(\"Решение системы уравнений методом Гаусса:\", x)\n",
        "\n",
        "\n",
        "    # Подготовка матрицы для вычислений\n",
        "    def prepare_matrix(self):\n",
        "        self.A = self.A.astype(np.float64)\n",
        "        self.b = self.b.astype(np.float64)\n",
        "        self.prepared_matrix = np.concatenate((self.A, self.b.reshape(-1, 1)), axis=1)\n",
        "\n",
        "    # Метод Гаусса\n",
        "    def Gauss_method(self, A, b):\n",
        "\n",
        "        n = len(A)\n",
        "        self.prepare_matrix()\n",
        "\n",
        "        for i in range(n):\n",
        "            pivot = self.prepared_matrix[i, i]\n",
        "            if pivot == 0:\n",
        "                raise ValueError(\"Система уравнений не имеет единственного решения\")\n",
        "            self.prepared_matrix[i] /= pivot\n",
        "            for j in range(i + 1, n):\n",
        "                factor = self.prepared_matrix[j, i]\n",
        "                self.prepared_matrix[j] -= factor * self.prepared_matrix[i]\n",
        "\n",
        "        for i in range(n - 1, -1, -1):\n",
        "            for j in range(i - 1, -1, -1):\n",
        "                factor = self.prepared_matrix[j, i]\n",
        "                self.prepared_matrix[j] -= factor * self.prepared_matrix[i]\n",
        "\n",
        "        x = self.prepared_matrix[:, n]\n",
        "\n",
        "        return x\n",
        "\n",
        "\n",
        "\n",
        "\n",
        "\n",
        "\n",
        "if __name__ == \"__main__\":\n",
        "    obj = Task2()\n"
      ],
      "metadata": {
        "id": "Vkl5eEzgTUfx",
        "colab": {
          "base_uri": "https://localhost:8080/"
        },
        "outputId": "a93de9ad-206e-4714-a9d3-cb2948d1f1e3"
      },
      "execution_count": 1,
      "outputs": [
        {
          "output_type": "stream",
          "name": "stdout",
          "text": [
            "Решение системы уравнений методом Гаусса: [3. 1. 2.]\n"
          ]
        }
      ]
    },
    {
      "cell_type": "markdown",
      "source": [
        "2. Реализовать решение систем линейных уравнений методом Якоби"
      ],
      "metadata": {
        "id": "4YlGOdgo6Pyp"
      }
    },
    {
      "cell_type": "code",
      "source": [
        "import numpy as np\n",
        "import pandas as pd\n",
        "\n",
        "\n",
        "class Task2:\n",
        "    # Коэффициенты системы уравнений\n",
        "    def __init__(self) -> None:\n",
        "        self.A = np.array([[2, 3, -4],\n",
        "                    [3, -1, 2],\n",
        "                    [4, 3, -3]], dtype=float)\n",
        "        self.b = np.array([1, 12, 9], dtype=float)\n",
        "\n",
        "        # Начальное приближение для x, y, z\n",
        "        self.x = np.zeros_like(self.b)\n",
        "\n",
        "        # Точность вычислений\n",
        "        self.accur = 1e-10\n",
        "        self.max_iter_steps = 100\n",
        "\n",
        "        # Список для хранения значений на каждой итерации\n",
        "        self.results = []\n",
        "\n",
        "        self.Jacobi_method()\n",
        "    # Метод Якоби\n",
        "    def Jacobi_method(self):\n",
        "\n",
        "        for iter_step in range(self.max_iter_steps):\n",
        "            self.x_new = np.zeros_like(self.x)\n",
        "\n",
        "            # Обновляем значения для каждой переменной\n",
        "            for i in range(self.A.shape[0]):\n",
        "                s = sum(self.A[i][j] * self.x[j] for j in range(self.A.shape[1]) if j != i)\n",
        "                self.x_new[i] = (self.b[i] - s) / self.A[i][i]\n",
        "\n",
        "            # Добавляем результаты текущей итерации в список\n",
        "            self.results.append([self.x_new[0], self.x_new[1], self.x_new[2]])\n",
        "\n",
        "            # Проверка на сходимость\n",
        "            if np.linalg.norm(self.x_new - self.x, ord=np.inf) < self.accur:\n",
        "                break\n",
        "\n",
        "            self.x = self.x_new\n",
        "\n",
        "        # Отключение научной нотации\n",
        "        pd.set_option('display.float_format', lambda x: '%.6f' % x)\n",
        "\n",
        "        # Создаем DataFrame для отображения результатов\n",
        "        df_results = pd.DataFrame(self.results, columns=['x', 'y', 'z'])\n",
        "\n",
        "        # Вывод таблицы с результатами\n",
        "        print(\"Результаты вычислений в формате DataFrame (для более наглядного представления):\")\n",
        "        print(df_results)\n",
        "\n",
        "        # Вывод окончательного решения\n",
        "        print(f\"\\nОкончательное решение после {iter_step+1} итераций:\")\n",
        "        print(df_results.iloc[-1])\n",
        "\n",
        "\n",
        "\n",
        "if __name__ == \"__main__\":\n",
        "    obj = Task2()"
      ],
      "metadata": {
        "colab": {
          "base_uri": "https://localhost:8080/"
        },
        "id": "1Co0kSbM6V6T",
        "outputId": "75002009-96c2-4723-b025-24de86178d90"
      },
      "execution_count": 3,
      "outputs": [
        {
          "output_type": "stream",
          "name": "stdout",
          "text": [
            "Результаты вычислений в формате DataFrame (для более наглядного представления):\n",
            "                     x                     y                     z\n",
            "0             0.500000            -12.000000             -3.000000\n",
            "1            12.500000            -16.500000            -14.333333\n",
            "2            -3.416667             -3.166667             -2.833333\n",
            "3            -0.416667            -27.916667            -10.722222\n",
            "4            20.930556            -34.694444            -31.472222\n",
            "..                 ...                   ...                   ...\n",
            "95  40695899732.762817  -855118192301.798706  -614413580492.891479\n",
            "96  53850127467.415039 -1106739461799.494629  -800856992661.114868\n",
            "97  58395207377.512207 -1440163602931.984619 -1034939291845.941284\n",
            "98  90366820706.594482 -1894692961571.345947 -1362303326431.635010\n",
            "99 117432789494.249023 -2453506190755.486328 -1774203867298.886719\n",
            "\n",
            "[100 rows x 3 columns]\n",
            "\n",
            "Окончательное решение после 100 итераций:\n",
            "x     117432789494.249023\n",
            "y   -2453506190755.486328\n",
            "z   -1774203867298.886719\n",
            "Name: 99, dtype: float64\n"
          ]
        }
      ]
    },
    {
      "cell_type": "markdown",
      "source": [
        "3. Реализовать алгоритм решения систем линейных уравнений методом Зейделя"
      ],
      "metadata": {
        "id": "RYWb01X_CWpA"
      }
    },
    {
      "cell_type": "code",
      "source": [
        "\n",
        "import numpy as np\n",
        "\n",
        "class Task2:\n",
        "    def __init__(self) -> None:\n",
        "        A = np.array([\n",
        "        [2, 3, -4],\n",
        "        [3, -1, 2],\n",
        "        [4, 3, -3]], dtype=np.float64)\n",
        "        b = np.array([1, 12, 9], dtype=np.float64)\n",
        "\n",
        "        solution = self.seidel_method(A, b)\n",
        "        for res in range(len(solution)):\n",
        "          print(f\" x{res+1} = {solution[res]}\")\n",
        "    #Метод Зейделя\n",
        "    def seidel_method(self,A, b, max_iter=100, tol=1e-6):\n",
        "\n",
        "        n = len(b)\n",
        "        x = np.zeros_like(b, dtype=np.float64)\n",
        "\n",
        "        for i in range(max_iter):\n",
        "            x_new = np.copy(x)\n",
        "\n",
        "            for j in range(n):\n",
        "                sum_ax = 0\n",
        "                for k in range(j):\n",
        "                    sum_ax += A[j, k] * x_new[k]\n",
        "                for k in range(j + 1, n):\n",
        "                    sum_ax += A[j, k] * x[k]\n",
        "                x_new[j] = (b[j] - sum_ax) / A[j, j]\n",
        "\n",
        "            max_diff = 0\n",
        "            for k in range(n):\n",
        "                max_diff = max(max_diff, abs(x_new[k] - x[k]))\n",
        "            if max_diff < tol:\n",
        "                return x_new\n",
        "\n",
        "            x = np.copy(x_new)\n",
        "\n",
        "        return x_new\n",
        "\n",
        "\n",
        "\n",
        "if __name__ == \"__main__\":\n",
        "    obj = Task2()"
      ],
      "metadata": {
        "colab": {
          "base_uri": "https://localhost:8080/"
        },
        "id": "7omi7TSVCcn7",
        "outputId": "645a4ed0-26aa-498b-b0fa-d0a34ae61639"
      },
      "execution_count": 15,
      "outputs": [
        {
          "output_type": "stream",
          "name": "stdout",
          "text": [
            " x1 = -1.2535713489471127e+73\n",
            " x2 = -6.928124407505485e+73\n",
            " x3 = -8.599552872768302e+73\n"
          ]
        }
      ]
    },
    {
      "cell_type": "markdown",
      "source": [
        "Проверить решение с помощью solve"
      ],
      "metadata": {
        "id": "8X0aNvTUEmyp"
      }
    },
    {
      "cell_type": "code",
      "source": [
        "#Проверка решения\n",
        "import numpy as np\n",
        "\n",
        "A = np.array(\n",
        "    [[2, 3, -4],\n",
        "    [3, -1, 2],\n",
        "    [4, 3, -3]])\n",
        "b = np.array([1, 12, 9])\n",
        "\n",
        "x = np.linalg.solve(A, b)\n",
        "\n",
        "print(f\"Решение системы уравнений: {x}\")\n",
        "print(\"Корни:\")\n",
        "for i, root in enumerate(x):\n",
        "  print(f\"x{i+1} = {root}\")"
      ],
      "metadata": {
        "colab": {
          "base_uri": "https://localhost:8080/"
        },
        "id": "7X13XOjoEqTO",
        "outputId": "c6966a4c-4e33-41c1-c8ac-85f115cea484"
      },
      "execution_count": 16,
      "outputs": [
        {
          "output_type": "stream",
          "name": "stdout",
          "text": [
            "Решение системы уравнений: [3. 1. 2.]\n",
            "Корни:\n",
            "x1 = 3.0\n",
            "x2 = 1.0\n",
            "x3 = 2.0\n"
          ]
        }
      ]
    },
    {
      "cell_type": "markdown",
      "source": [
        "# Вывод\n",
        "Наиболее точно показал себя метод Гаусса, у остальных же методов точность значительно меньше."
      ],
      "metadata": {
        "id": "CgqgVYO9F2JO"
      }
    },
    {
      "cell_type": "markdown",
      "source": [
        "# Численное решение систем нелинейных уравнений. Вариант 4\n",
        "\n",
        "![image.png](data:image/png;base64,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)"
      ],
      "metadata": {
        "id": "RrMUfj1AGLYF"
      }
    },
    {
      "cell_type": "markdown",
      "source": [
        "1.Построить график функций и найти графически приблизительное решение системы уравнений"
      ],
      "metadata": {
        "id": "m-epZjKEGjVr"
      }
    },
    {
      "cell_type": "code",
      "source": [
        "import numpy as np\n",
        "import matplotlib.pyplot as plt\n",
        "from scipy.optimize import fsolve\n",
        "\n",
        "\n",
        "\n",
        "class Task3:\n",
        "    def __init__(self) -> None:\n",
        "        # Создаём сетку значений для графика\n",
        "        self.x_values = np.linspace(-5, 5, 400)\n",
        "        self.y_values = np.linspace(-5, 5, 400)\n",
        "        self.X, self.Y = np.meshgrid(self.x_values, self.y_values)\n",
        "\n",
        "        # Значения функций сетки\n",
        "        self.Z1 = self.f1(self.X, self.Y)\n",
        "        self.Z2 = self.f2(self.X, self.Y)\n",
        "\n",
        "        self.draw_graph()\n",
        "    # Определяем функции на основе системы уравнений\n",
        "    def f1(self, x, y):\n",
        "        return np.cos(x+0.5) + y - 0.8\n",
        "\n",
        "    def f2(self, x, y):\n",
        "        return np.sin(y) - 2*x - 1.6\n",
        "\n",
        "\n",
        "\n",
        "\n",
        "\n",
        "    def draw_graph(self):\n",
        "        plt.figure(figsize=(10, 8))\n",
        "        contour1 = plt.contour(self.X,self.Y,self.Z1, levels=[0], colors='#ecd47b', linewidths=2, linestyles='dashed')\n",
        "        contour2 = plt.contour(self.X, self.Y, self.Z2, levels=[0], colors='#ef919f', linewidths=2, linestyles='solid')\n",
        "        plt.title('Графики функций системы нелинейных уравнений')\n",
        "        plt.xlabel('x')\n",
        "        plt.ylabel('y')\n",
        "        plt.axhline(0, color='black', linewidth=0.5, ls='--')\n",
        "        plt.axvline(0, color='black', linewidth=0.5, ls='--')\n",
        "        plt.grid()\n",
        "\n",
        "        line1 = plt.Line2D([0], [0], color='#ecd47b', linestyle='dashed', lw=2)\n",
        "        line2 = plt.Line2D([0], [0], color='#ef919f', linestyle='solid', lw=2)\n",
        "        plt.legend([line1, line2], ['cos(x+0.5)+y - 0.8', 'sin(y) - 2x - 1.6'])\n",
        "\n",
        "        plt.xlim(-5, 5)\n",
        "        plt.ylim(-5, 5)\n",
        "\n",
        "        #! Поиск графического решения\n",
        "        # Начальные приближения\n",
        "        initial_guesses = [(-1, 0), (0, 1), (1, 0)]\n",
        "\n",
        "        # Находим решения с помощью метода fsolve\n",
        "        solutions = []\n",
        "        for guess in initial_guesses:\n",
        "            sol = fsolve(lambda vars: [self.f1(vars[0], vars[1]), self.f2(vars[0], vars[1])], guess)\n",
        "            # Проверка уникальности решений\n",
        "            if not any(np.allclose(sol, existing_sol) for existing_sol in solutions):\n",
        "                solutions.append(sol)\n",
        "\n",
        "        # Отображение найденных решений на графике\n",
        "        for sol in solutions:\n",
        "            plt.plot(sol[0], sol[1], 'ko')  # Отметим решения черными точками\n",
        "            plt.text(sol[0] + 0.3, sol[1] + 0.3, f'({sol[0]:.2f}, {sol[1]:.2f})', fontsize=10, ha='left', color='black')\n",
        "\n",
        "        plt.show()\n",
        "\n",
        "        # Вывод найденных решений\n",
        "        for idx, sol in enumerate(solutions):\n",
        "            print(f'Приблизительное решение: x = {round(sol[0], 3)}, y = {round(sol[1], 3)}')\n",
        "\n",
        "\n",
        "\n",
        "\n",
        "if __name__ == \"__main__\":\n",
        "    obj = Task3()"
      ],
      "metadata": {
        "colab": {
          "base_uri": "https://localhost:8080/",
          "height": 735
        },
        "id": "b78sQmHaGhpr",
        "outputId": "adeaa583-4aa4-4e8d-b07f-6eb7bd1b8ea4"
      },
      "execution_count": 21,
      "outputs": [
        {
          "output_type": "display_data",
          "data": {
            "text/plain": [
              "<Figure size 1000x800 with 1 Axes>"
            ],
            "image/png": "[encoded data removed]"
          },
          "metadata": {}
        },
        {
          "output_type": "stream",
          "name": "stdout",
          "text": [
            "Приблизительное решение: x = -0.867, y = -0.134\n"
          ]
        }
      ]
    },
    {
      "cell_type": "markdown",
      "source": [
        "2. Найти решение системы методом прямых итераций (20 итераций)"
      ],
      "metadata": {
        "id": "bUa9RmuKKqfo"
      }
    },
    {
      "cell_type": "code",
      "source": [
        "import numpy as np\n",
        "import pandas as pd\n",
        "\n",
        "\n",
        "class Task3:\n",
        "\n",
        "    def __init__(self) -> None:\n",
        "        # Начальные приближения\n",
        "        x0, y0 = 0, 0\n",
        "        df = self.iterative_method(x0, y0)\n",
        "            # Отображение DataFrame\n",
        "        print(df)\n",
        "\n",
        "    def iterative_method(self, x0, y0, iterations=20):\n",
        "        results = {'Итерация': [], 'x': [], 'y': []}\n",
        "        x, y = x0, y0\n",
        "        for i in range(iterations):\n",
        "            y_new = 0.8 - np.cos(x + 0.5)\n",
        "            x_new = (np.sin(y) - 1.6) / 2\n",
        "            x, y = x_new, y_new\n",
        "            results['Итерация'].append(i+1)\n",
        "            results['x'].append(x)\n",
        "            results['y'].append(y)\n",
        "\n",
        "        # Создаем DataFrame из результатов\n",
        "        df = pd.DataFrame(results)\n",
        "        return df\n",
        "\n",
        "\n",
        "\n",
        "\n",
        "\n",
        "if __name__ == \"__main__\":\n",
        "    obj = Task3()"
      ],
      "metadata": {
        "colab": {
          "base_uri": "https://localhost:8080/"
        },
        "id": "-452qFnTKrkA",
        "outputId": "09c502fb-5064-4201-ba94-b99c5b376634"
      },
      "execution_count": 24,
      "outputs": [
        {
          "output_type": "stream",
          "name": "stdout",
          "text": [
            "    Итерация         x         y\n",
            "0          1 -0.800000 -0.077583\n",
            "1          2 -0.838752 -0.155336\n",
            "2          3 -0.877356 -0.143170\n",
            "3          4 -0.871341 -0.129642\n",
            "4          5 -0.864640 -0.131842\n",
            "5          6 -0.865730 -0.134252\n",
            "6          7 -0.866925 -0.133863\n",
            "7          8 -0.866732 -0.133435\n",
            "8          9 -0.866520 -0.133504\n",
            "9         10 -0.866554 -0.133580\n",
            "10        11 -0.866592 -0.133568\n",
            "11        12 -0.866586 -0.133554\n",
            "12        13 -0.866579 -0.133557\n",
            "13        14 -0.866580 -0.133559\n",
            "14        15 -0.866581 -0.133559\n",
            "15        16 -0.866581 -0.133558\n",
            "16        17 -0.866581 -0.133558\n",
            "17        18 -0.866581 -0.133558\n",
            "18        19 -0.866581 -0.133558\n",
            "19        20 -0.866581 -0.133558\n"
          ]
        }
      ]
    },
    {
      "cell_type": "markdown",
      "source": [
        "3. Найти решение системы методом Гаусса-Зейделя (20 итераций)"
      ],
      "metadata": {
        "id": "Q4PPwBxJOWdL"
      }
    },
    {
      "cell_type": "code",
      "source": [
        "import numpy as np\n",
        "import pandas as pd\n",
        "\n",
        "\n",
        "class Task3:\n",
        "\n",
        "    def __init__(self) -> None:\n",
        "\n",
        "    # Начальные приближения\n",
        "        x0, y0 = 0, 0\n",
        "        df = self. gauss_seidel_method(x0, y0)\n",
        "\n",
        "        # Отображение DataFrame\n",
        "        print(df)\n",
        "\n",
        "    def gauss_seidel_method(self, x0, y0, iterations=20):\n",
        "        results = {'Итерация': [], 'x': [], 'y': []}\n",
        "        x, y = x0, y0\n",
        "        for i in range(iterations):\n",
        "            # Обновляем y с использованием текущего значения x\n",
        "            y = 0.8 - np.cos(x + 0.5)\n",
        "\n",
        "            # Обновляем x с использованием нового значения y\n",
        "            x = (np.sin(y) - 1.6) / 2\n",
        "\n",
        "            # Сохраняем результаты текущей итерации\n",
        "            results['Итерация'].append(i+1)\n",
        "            results['x'].append(x)\n",
        "            results['y'].append(y)\n",
        "\n",
        "        # Создаем DataFrame из результатов\n",
        "        df = pd.DataFrame(results)\n",
        "        return df\n",
        "\n",
        "if __name__ == \"__main__\":\n",
        "    obj = Task3()"
      ],
      "metadata": {
        "colab": {
          "base_uri": "https://localhost:8080/"
        },
        "id": "P_8RsFflOZ5e",
        "outputId": "f401388f-c2a2-416e-b436-63fa09f22730"
      },
      "execution_count": 26,
      "outputs": [
        {
          "output_type": "stream",
          "name": "stdout",
          "text": [
            "    Итерация         x         y\n",
            "0          1 -0.838752 -0.077583\n",
            "1          2 -0.871341 -0.143170\n",
            "2          3 -0.865730 -0.131842\n",
            "3          4 -0.866732 -0.133863\n",
            "4          5 -0.866554 -0.133504\n",
            "5          6 -0.866586 -0.133568\n",
            "6          7 -0.866580 -0.133557\n",
            "7          8 -0.866581 -0.133559\n",
            "8          9 -0.866581 -0.133558\n",
            "9         10 -0.866581 -0.133558\n",
            "10        11 -0.866581 -0.133558\n",
            "11        12 -0.866581 -0.133558\n",
            "12        13 -0.866581 -0.133558\n",
            "13        14 -0.866581 -0.133558\n",
            "14        15 -0.866581 -0.133558\n",
            "15        16 -0.866581 -0.133558\n",
            "16        17 -0.866581 -0.133558\n",
            "17        18 -0.866581 -0.133558\n",
            "18        19 -0.866581 -0.133558\n",
            "19        20 -0.866581 -0.133558\n"
          ]
        }
      ]
    },
    {
      "cell_type": "markdown",
      "source": [
        "4. Найти решение системы методом Ньютона (20 итераций)"
      ],
      "metadata": {
        "id": "wEcLvmiZPO-0"
      }
    },
    {
      "cell_type": "code",
      "source": [
        "import numpy as np\n",
        "import pandas as pd\n",
        "import math\n",
        "\n",
        "\n",
        "\n",
        "class Task3:\n",
        "\n",
        "    def __init__(self) -> None:\n",
        "        self.newton_method()\n",
        "\n",
        "        # Начальные приближения\n",
        "        x0, y0 = 0, 0\n",
        "        df = self.newton_method(x0, y0)\n",
        "\n",
        "        # Отображение DataFrame\n",
        "        print(df)\n",
        "    # Система нелинейных уравнений\n",
        "    def F(self, x, y):\n",
        "        return np.array([math.cos(x + 0.5) + y - 0.8,\n",
        "                        math.sin(y) - 2*x - 1.6])\n",
        "\n",
        "    # Якобиан системы\n",
        "    def J(self, x, y):\n",
        "        return np.array([[-math.sin(x + 0.5), 1],\n",
        "                        [-2, math.cos(y)]])\n",
        "\n",
        "    # Метод Ньютона\n",
        "    def newton_method(self, x0 = 0, y0 = 0 , iterations=20):\n",
        "        results = {'Итерация': [], 'x': [], 'y': []}\n",
        "        x, y = x0, y0\n",
        "        for i in range(iterations):\n",
        "            # Вычисляем значения функции и якобиана в текущей точке\n",
        "            F_val = self.F(x, y)\n",
        "            J_val = self.J(x, y)\n",
        "\n",
        "            # Решаем систему линейных уравнений для обновления переменных\n",
        "            delta = np.linalg.solve(J_val, F_val)\n",
        "\n",
        "            # Обновляем x и y\n",
        "            x, y = np.array([x, y]) - delta\n",
        "\n",
        "            # Сохраняем результаты итерации\n",
        "            results['Итерация'].append(i+1)\n",
        "            results['x'].append(x)\n",
        "            results['y'].append(y)\n",
        "\n",
        "        # Создаем DataFrame из результатов\n",
        "        df = pd.DataFrame(results)\n",
        "        return df\n",
        "\n",
        "\n",
        "\n",
        "if __name__ == \"__main__\":\n",
        "\n",
        "    obj = Task3()\n"
      ],
      "metadata": {
        "colab": {
          "base_uri": "https://localhost:8080/"
        },
        "id": "G6lhc8F_PU17",
        "outputId": "7e9fe43e-1568-4ae8-9234-a88b36670666"
      },
      "execution_count": 27,
      "outputs": [
        {
          "output_type": "stream",
          "name": "stdout",
          "text": [
            "    Итерация         x         y\n",
            "0          1 -1.103256 -0.606512\n",
            "1          2 -0.894209 -0.142091\n",
            "2          3 -0.866730 -0.133855\n",
            "3          4 -0.866581 -0.133558\n",
            "4          5 -0.866581 -0.133558\n",
            "5          6 -0.866581 -0.133558\n",
            "6          7 -0.866581 -0.133558\n",
            "7          8 -0.866581 -0.133558\n",
            "8          9 -0.866581 -0.133558\n",
            "9         10 -0.866581 -0.133558\n",
            "10        11 -0.866581 -0.133558\n",
            "11        12 -0.866581 -0.133558\n",
            "12        13 -0.866581 -0.133558\n",
            "13        14 -0.866581 -0.133558\n",
            "14        15 -0.866581 -0.133558\n",
            "15        16 -0.866581 -0.133558\n",
            "16        17 -0.866581 -0.133558\n",
            "17        18 -0.866581 -0.133558\n",
            "18        19 -0.866581 -0.133558\n",
            "19        20 -0.866581 -0.133558\n"
          ]
        }
      ]
    },
    {
      "cell_type": "markdown",
      "source": [
        "# Вывод\n",
        "\n",
        "### Выводы по применению методов для решения системы нелинейных уравнений:\n",
        "\n",
        "1. **Метод прямых итераций:**\n",
        "\n",
        "   \n",
        "   - **Результат**: В нашем случае метод прямых итераций с 20 шагами дал результаты, которые постепенно приближались к решению, но может потребоваться больше итераций для точного результата.\n",
        "\n",
        "2. **Метод Гаусса-Зейделя:**\n",
        "\n",
        "   \n",
        "   - **Результат**: Система постепенно сходилась к решению, хотя для более точных результатов требуется больше итераций. Схож с методом прямых итераций, но немного более эффективен.\n",
        "\n",
        "3. **Метод Ньютона:**\n",
        "\n",
        "  \n",
        "   - **Результат**: В нашем случае метод Ньютона показал быстрый прогресс к точному решению за несколько итераций. Однако, если начальные условия выбраны неправильно, метод может не сойтись.\n",
        "\n",
        "### Общие выводы:\n",
        "\n",
        "- **Метод прямых итераций** и **метод Гаусса-Зейделя** просты в реализации, но часто требуют хороших начальных приближений и большого количества итераций для достижения приемлемого результата.\n",
        "- **Метод Ньютона** — наиболее мощный из примененных методов. Он дает быстрое решение благодаря квадратичной сходимости, но требует вычисления якобиана и может не сходиться при плохом выборе начальных условий.\n",
        "  \n",
        "Для данной системы нелинейных уравнений метод Ньютона оказался наиболее эффективным, обеспечивая быстрое приближение к решению. Методы итераций можно применять как предварительные шаги для нахождения хороших начальных приближений для метода Ньютона."
      ],
      "metadata": {
        "id": "d79B0DRwQfX6"
      }
    }
  ]
}